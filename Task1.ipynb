{
 "cells": [
  {
   "cell_type": "code",
   "execution_count": 9,
   "id": "9bfdd98d-59ad-4518-9f56-cb9030a1b161",
   "metadata": {},
   "outputs": [],
   "source": [
    "#Python Developer Task-1"
   ]
  },
  {
   "cell_type": "code",
   "execution_count": 11,
   "id": "6b55e3b9-b586-49c2-b2a9-061846c132b2",
   "metadata": {},
   "outputs": [],
   "source": [
    "#Creating and storing the value in the variable\n",
    "Name = \"John\"\n",
    "Age = 20\n",
    "is_student = True"
   ]
  },
  {
   "cell_type": "code",
   "execution_count": 13,
   "id": "ae44f123-0a2a-4e55-ba7b-6e4ef904e1f2",
   "metadata": {},
   "outputs": [
    {
     "name": "stdout",
     "output_type": "stream",
     "text": [
      "John\n",
      "20\n"
     ]
    },
    {
     "data": {
      "text/plain": [
       "True"
      ]
     },
     "execution_count": 13,
     "metadata": {},
     "output_type": "execute_result"
    }
   ],
   "source": [
    "print(Name)\n",
    "print(Age)\n",
    "is_student"
   ]
  },
  {
   "cell_type": "code",
   "execution_count": 23,
   "id": "4c067520-ddb7-4057-b91d-1b8172e3ad7b",
   "metadata": {},
   "outputs": [],
   "source": [
    "#using Data Types in python\n",
    "Mark = 90\n",
    "Temperature = 98.3\n",
    "Information = \"Welcome to python programming\"\n",
    "is_valid = True"
   ]
  },
  {
   "cell_type": "code",
   "execution_count": 25,
   "id": "559e3bb3-ddae-4c47-850c-5618530063d4",
   "metadata": {},
   "outputs": [
    {
     "name": "stdout",
     "output_type": "stream",
     "text": [
      "<class 'int'>\n",
      "<class 'float'>\n",
      "<class 'str'>\n",
      "<class 'bool'>\n"
     ]
    }
   ],
   "source": [
    "print(type(Mark))\n",
    "print(type(Temperature))\n",
    "print(type(Information))\n",
    "print(type(is_valid))"
   ]
  },
  {
   "cell_type": "code",
   "execution_count": 37,
   "id": "bd543d60-af72-4be7-95bc-1fe79a3c99b9",
   "metadata": {},
   "outputs": [
    {
     "name": "stdout",
     "output_type": "stream",
     "text": [
      "apple\n",
      "banana\n",
      "cherry\n",
      "date\n",
      "elderberry\n"
     ]
    }
   ],
   "source": [
    "#Loops in python \n",
    "#for loop\n",
    "# Define a list of fruits\n",
    "fruits = [\"apple\", \"banana\", \"cherry\", \"date\", \"elderberry\"]\n",
    "\n",
    "# Loop through the list and print each fruit\n",
    "for fruit in fruits:\n",
    "    print(fruit)\n"
   ]
  },
  {
   "cell_type": "code",
   "execution_count": 39,
   "id": "4c4baa8f-b1b9-4573-8d81-be29e4aa1b42",
   "metadata": {},
   "outputs": [
    {
     "name": "stdout",
     "output_type": "stream",
     "text": [
      "0\n",
      "1\n",
      "2\n",
      "3\n",
      "4\n"
     ]
    }
   ],
   "source": [
    "#While loop\n",
    "# Initialize a counter variable\n",
    "count = 0\n",
    "\n",
    "# Loop while count is less than 5\n",
    "while count < 5:\n",
    "    print(count)\n",
    "    count += 1\n"
   ]
  },
  {
   "cell_type": "code",
   "execution_count": 41,
   "id": "12b4624a-b5b1-4a8b-92f9-7c72b5479cd7",
   "metadata": {},
   "outputs": [
    {
     "name": "stdout",
     "output_type": "stream",
     "text": [
      "The sum is: 8\n"
     ]
    }
   ],
   "source": [
    "#function in python\n",
    "# Define a function that adds two numbers and returns the result\n",
    "def add(a, b):\n",
    "    return a + b\n",
    "\n",
    "# Call the function and store the result\n",
    "result = add(3, 5)\n",
    "print(\"The sum is:\", result)\n"
   ]
  },
  {
   "cell_type": "code",
   "execution_count": 45,
   "id": "ef901213-f0ff-46fa-86c8-d85c389ae19e",
   "metadata": {},
   "outputs": [
    {
     "name": "stdout",
     "output_type": "stream",
     "text": [
      "Addition: 15\n",
      "Subtraction: 5\n",
      "Multiplication: 50\n",
      "Division: 2.0\n",
      "Modulus: 0\n",
      "Exponentiation: 100000\n",
      "Floor Division: 2\n"
     ]
    }
   ],
   "source": [
    "#Basic Arithmetic Operations\n",
    "# Addition\n",
    "a = 10\n",
    "b = 5\n",
    "addition = a + b\n",
    "print(\"Addition:\", addition)\n",
    "\n",
    "# Subtraction\n",
    "subtraction = a - b\n",
    "print(\"Subtraction:\", subtraction)\n",
    "\n",
    "# Multiplication\n",
    "multiplication = a * b\n",
    "print(\"Multiplication:\", multiplication)\n",
    "\n",
    "# Division\n",
    "division = a / b\n",
    "print(\"Division:\", division)\n",
    "\n",
    "# Modulus\n",
    "modulus = a % b\n",
    "print(\"Modulus:\", modulus)\n",
    "\n",
    "# Exponentiation\n",
    "exponentiation = a ** b\n",
    "print(\"Exponentiation:\", exponentiation)\n",
    "\n",
    "#Floor Division\n",
    "Floor_Division = a//b\n",
    "print(\"Floor Division:\", Floor_Division)"
   ]
  },
  {
   "cell_type": "code",
   "execution_count": 47,
   "id": "76e393e3-63ef-4a40-b9fd-934fccfd5e8d",
   "metadata": {},
   "outputs": [
    {
     "name": "stdout",
     "output_type": "stream",
     "text": [
      "Concatenation: Star Wars\n",
      "Repetition: StarStarStar\n",
      "Sliced: tar\n",
      "Length: 4\n",
      "Upper Case: STAR\n",
      "Lower Case: star\n"
     ]
    }
   ],
   "source": [
    "#String Manipulataion in python \n",
    "# Concatenation\n",
    "str1 = \"Star\"\n",
    "str2 = \"Wars\"\n",
    "concatenation = str1 + \" \" + str2\n",
    "print(\"Concatenation:\", concatenation)\n",
    "\n",
    "# Repetition\n",
    "repetition = str1 * 3\n",
    "print(\"Repetition:\", repetition)\n",
    "\n",
    "# Slicing\n",
    "sliced = str1[1:4]\n",
    "print(\"Sliced:\", sliced)\n",
    "\n",
    "# Length\n",
    "length = len(str1)\n",
    "print(\"Length:\", length)\n",
    "\n",
    "# Upper and Lower Case\n",
    "upper_case = str1.upper()\n",
    "lower_case = str1.lower()\n",
    "print(\"Upper Case:\", upper_case)\n",
    "print(\"Lower Case:\", lower_case)\n"
   ]
  },
  {
   "cell_type": "code",
   "execution_count": 49,
   "id": "ebb00ed9-f049-4592-a474-4bf29fcca511",
   "metadata": {},
   "outputs": [
    {
     "name": "stdout",
     "output_type": "stream",
     "text": [
      "The number is positive.\n",
      "The number is positive and odd.\n"
     ]
    }
   ],
   "source": [
    "#conditional Statements in python\n",
    "# If-else statement\n",
    "num = 77\n",
    "if num > 0:\n",
    "    print(\"The number is positive.\")\n",
    "elif num == 0:\n",
    "    print(\"The number is zero.\")\n",
    "else:\n",
    "    print(\"The number is negative.\")\n",
    "\n",
    "# Nested if-else\n",
    "if num > 0:\n",
    "    if num % 2 == 0:\n",
    "        print(\"The number is positive and even.\")\n",
    "    else:\n",
    "        print(\"The number is positive and odd.\")\n",
    "else:\n",
    "    print(\"The number is not positive.\")\n"
   ]
  },
  {
   "cell_type": "code",
   "execution_count": 51,
   "id": "195b3f45-7088-47a2-b732-7ffc23affa23",
   "metadata": {},
   "outputs": [],
   "source": [
    "import pandas as pd"
   ]
  },
  {
   "cell_type": "code",
   "execution_count": 53,
   "id": "66f73198-3336-4503-b08a-f89a78588404",
   "metadata": {},
   "outputs": [
    {
     "name": "stdout",
     "output_type": "stream",
     "text": [
      "First element: 1\n",
      "Last element: 5\n",
      "After appending 6: [1, 2, 3, 4, 5, 6]\n",
      "After removing 3: [1, 2, 4, 5, 6]\n",
      "Sliced list: [2, 4, 5]\n"
     ]
    }
   ],
   "source": [
    "#lis operation in python\n",
    "# Creating a list\n",
    "my_list = [1, 2, 3, 4, 5]\n",
    "\n",
    "# Accessing elements\n",
    "print(\"First element:\", my_list[0])\n",
    "print(\"Last element:\", my_list[-1])\n",
    "\n",
    "# Adding elements\n",
    "my_list.append(6)\n",
    "print(\"After appending 6:\", my_list)\n",
    "\n",
    "# Removing elements\n",
    "my_list.remove(3)\n",
    "print(\"After removing 3:\", my_list)\n",
    "\n",
    "# Slicing\n",
    "sliced_list = my_list[1:4]\n",
    "print(\"Sliced list:\", sliced_list)"
   ]
  },
  {
   "cell_type": "code",
   "execution_count": 57,
   "id": "4463a9ee-1a4c-4353-8c21-2cf0c7c47b65",
   "metadata": {},
   "outputs": [
    {
     "name": "stdout",
     "output_type": "stream",
     "text": [
      "Name: Davis\n",
      "Age: 30\n",
      "After adding email: {'name': 'Davis', 'age': 30, 'city': 'New York', 'email': 'alice@example.com'}\n",
      "After removing age: {'name': 'Davis', 'city': 'New York', 'email': 'alice@example.com'}\n",
      "name : Davis\n",
      "city : New York\n",
      "email : alice@example.com\n"
     ]
    }
   ],
   "source": [
    "#Dictionary in python\n",
    "# Creating a dictionary\n",
    "my_dict = {\"name\": \"Davis\", \"age\": 30, \"city\": \"New York\"}\n",
    "\n",
    "# Accessing elements\n",
    "print(\"Name:\", my_dict[\"name\"])\n",
    "print(\"Age:\", my_dict[\"age\"])\n",
    "\n",
    "# Adding elements\n",
    "my_dict[\"email\"] = \"alice@example.com\"\n",
    "print(\"After adding email:\", my_dict)\n",
    "\n",
    "# Removing elements\n",
    "del my_dict[\"age\"]\n",
    "print(\"After removing age:\", my_dict)\n",
    "\n",
    "# Looping through dictionary\n",
    "for key, value in my_dict.items():\n",
    "    print(key, \":\", value)"
   ]
  },
  {
   "cell_type": "code",
   "execution_count": 61,
   "id": "4aa1c1c5-3ed3-4638-b720-fb482b47ee35",
   "metadata": {},
   "outputs": [
    {
     "name": "stdout",
     "output_type": "stream",
     "text": [
      "First element: 1\n",
      "Last element: 5\n",
      "Sliced tuple: (2, 3, 4)\n"
     ]
    }
   ],
   "source": [
    "#Tuples in python\n",
    "# Creating a tuple\n",
    "my_tuple = (1, 2, 3, 4, 5)\n",
    "\n",
    "# Accessing elements\n",
    "print(\"First element:\", my_tuple[0])\n",
    "print(\"Last element:\", my_tuple[-1])\n",
    "\n",
    "# Slicing\n",
    "sliced_tuple = my_tuple[1:4]\n",
    "print(\"Sliced tuple:\", sliced_tuple)\n",
    "\n",
    "# Tuples are immutable, so you cannot add or remove elements."
   ]
  }
 ],
 "metadata": {
  "kernelspec": {
   "display_name": "Python 3 (ipykernel)",
   "language": "python",
   "name": "python3"
  },
  "language_info": {
   "codemirror_mode": {
    "name": "ipython",
    "version": 3
   },
   "file_extension": ".py",
   "mimetype": "text/x-python",
   "name": "python",
   "nbconvert_exporter": "python",
   "pygments_lexer": "ipython3",
   "version": "3.11.7"
  }
 },
 "nbformat": 4,
 "nbformat_minor": 5
}
